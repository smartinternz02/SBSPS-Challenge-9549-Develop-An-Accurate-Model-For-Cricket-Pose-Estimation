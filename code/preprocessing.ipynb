{
 "cells": [
  {
   "cell_type": "code",
   "execution_count": 1,
   "id": "646b63ba",
   "metadata": {},
   "outputs": [],
   "source": [
    "import cv2\n",
    "import numpy as np\n",
    "import os\n",
    "from matplotlib import pyplot as plt\n",
    "import time\n",
    "import mediapipe as mp"
   ]
  },
  {
   "cell_type": "code",
   "execution_count": 2,
   "id": "03583f51",
   "metadata": {},
   "outputs": [],
   "source": [
    "DATA_PATH=r\"D:\\cricket\" # path where all video folder are there are there "
   ]
  },
  {
   "cell_type": "code",
   "execution_count": 3,
   "id": "1ad11959",
   "metadata": {},
   "outputs": [
    {
     "data": {
      "text/plain": [
       "['Cover Drive', 'Helicopter', 'Late Cut', 'Pull', 'Straight Drive', 'Sweep']"
      ]
     },
     "execution_count": 3,
     "metadata": {},
     "output_type": "execute_result"
    }
   ],
   "source": [
    "actions=os.listdir(DATA_PATH)\n",
    "actions"
   ]
  },
  {
   "cell_type": "code",
   "execution_count": 4,
   "id": "eac98ffc",
   "metadata": {},
   "outputs": [],
   "source": [
    "mp_holistic = mp.solutions.holistic\n",
    "mp_drawing = mp.solutions.drawing_utils #Draw utilities "
   ]
  },
  {
   "cell_type": "code",
   "execution_count": 5,
   "id": "0b418050",
   "metadata": {},
   "outputs": [],
   "source": [
    "def multiple_detection(image,model):\n",
    "    image = cv2.cvtColor(image,cv2.COLOR_BGR2RGB) #Color convertion \n",
    "    image.flags.writeable = False\n",
    "    results = model.process(image)\n",
    "    image.flags.writeable = True\n",
    "    image = cv2.cvtColor(image,cv2.COLOR_RGB2BGR)\n",
    "    return image,results"
   ]
  },
  {
   "cell_type": "code",
   "execution_count": 6,
   "id": "e3fd17b7",
   "metadata": {},
   "outputs": [],
   "source": [
    "def extract_keypoints(results):\n",
    "    pose = np.array([[res.x, res.y, res.z, res.visibility] for res in results.pose_landmarks.landmark]).flatten() if results.pose_landmarks else np.zeros(33*4)\n",
    "    face = np.array([[res.x, res.y, res.z] for res in results.face_landmarks.landmark]).flatten() if results.face_landmarks else np.zeros(468*3)\n",
    "    lh = np.array([[res.x, res.y, res.z] for res in results.left_hand_landmarks.landmark]).flatten() if results.left_hand_landmarks else np.zeros(21*3)\n",
    "    rh = np.array([[res.x, res.y, res.z] for res in results.right_hand_landmarks.landmark]).flatten() if results.right_hand_landmarks else np.zeros(21*3)\n",
    "\n",
    "    return np.concatenate([pose, face, lh, rh])"
   ]
  },
  {
   "cell_type": "code",
   "execution_count": 7,
   "id": "6110ccaf",
   "metadata": {},
   "outputs": [],
   "source": [
    "with mp_holistic.Holistic(min_detection_confidence=0.5, min_tracking_confidence=0.5) as holistic:\n",
    "    for action in actions:\n",
    "        video_list=os.listdir(os.path.join(DATA_PATH, action))\n",
    "        for file_name in video_list:\n",
    "            path=os.path.join(DATA_PATH, action, file_name)\n",
    "            cap=cv2.VideoCapture(path)\n",
    "            store_path=os.path.join(\"D:\\Cricket_images\",action) # creating path to store extracted keypoints from every frame of particular video\n",
    "            os.makedirs(store_path) # creating the directory\n",
    "            ret, frame = cap.read()\n",
    "            frame_num=0\n",
    "            while ret and cap.isOpened() and frame_num<600:        \n",
    "\n",
    "                # Make detections\n",
    "                image, results = multiple_detection(frame, holistic)\n",
    "                # 2. Prediction logic\n",
    "                keypoints = extract_keypoints(results)\n",
    "                npy_path = os.path.join(store_path, str(frame_num))\n",
    "                np.save(npy_path, keypoints)\n",
    "                frame_num+=1\n",
    "\n",
    "                # Read feed\n",
    "                ret, frame = cap.read()\n",
    "            \n",
    "            cap.release()\n",
    "            cv2.destroyAllWindows()\n",
    " \n",
    "    "
   ]
  },
  {
   "cell_type": "code",
   "execution_count": null,
   "id": "70aef2e4",
   "metadata": {},
   "outputs": [],
   "source": []
  }
 ],
 "metadata": {
  "kernelspec": {
   "display_name": "Python 3 (ipykernel)",
   "language": "python",
   "name": "python3"
  },
  "language_info": {
   "codemirror_mode": {
    "name": "ipython",
    "version": 3
   },
   "file_extension": ".py",
   "mimetype": "text/x-python",
   "name": "python",
   "nbconvert_exporter": "python",
   "pygments_lexer": "ipython3",
   "version": "3.9.12"
  }
 },
 "nbformat": 4,
 "nbformat_minor": 5
}
